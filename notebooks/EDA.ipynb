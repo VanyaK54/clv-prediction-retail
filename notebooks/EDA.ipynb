{
 "cells": [
  {
   "cell_type": "code",
   "execution_count": null,
   "id": "09591ec3",
   "metadata": {
    "vscode": {
     "languageId": "plaintext"
    }
   },
   "outputs": [],
   "source": [
    "##Imports & Setup\n",
    "\n",
    "import pandas as pd\n",
    "import matplotlib.pyplot as plt\n",
    "import seaborn as sns\n",
    "\n",
    "from src.data_cleaner import clean_data\n",
    "from src.feature_engineer import create_features\n",
    "\n",
    "%matplotlib inline\n",
    "sns.set(style=\"whitegrid\")\n"
   ]
  },
  {
   "cell_type": "code",
   "execution_count": null,
   "id": "686acc96",
   "metadata": {
    "vscode": {
     "languageId": "plaintext"
    }
   },
   "outputs": [],
   "source": [
    "\n",
    "# Load and clean sample data\n",
    "df = clean_data(\"data/sample_data.csv\")\n",
    "df = create_features(df)\n",
    "\n",
    "df.head()\n"
   ]
  },
  {
   "cell_type": "code",
   "execution_count": null,
   "id": "2b8c73f1",
   "metadata": {
    "vscode": {
     "languageId": "plaintext"
    }
   },
   "outputs": [],
   "source": [
    "#Summary Stats\n",
    "df.describe(include='all')\n"
   ]
  },
  {
   "cell_type": "code",
   "execution_count": null,
   "id": "7764f6fa",
   "metadata": {
    "vscode": {
     "languageId": "plaintext"
    }
   },
   "outputs": [],
   "source": [
    "#RFM Histogram\n",
    "fig, axes = plt.subplots(1, 3, figsize=(18, 4))\n",
    "sns.histplot(df['Recency'], kde=True, ax=axes[0], color='skyblue')\n",
    "axes[0].set_title('Recency Distribution')\n",
    "\n",
    "sns.histplot(df['Frequency'], kde=True, ax=axes[1], color='salmon')\n",
    "axes[1].set_title('Frequency Distribution')\n",
    "\n",
    "sns.histplot(df['Monetary'], kde=True, ax=axes[2], color='lightgreen')\n",
    "axes[2].set_title('Monetary (Revenue) Distribution')\n",
    "plt.tight_layout()\n",
    "plt.show()\n"
   ]
  },
  {
   "cell_type": "code",
   "execution_count": null,
   "id": "9a42abf2",
   "metadata": {
    "vscode": {
     "languageId": "plaintext"
    }
   },
   "outputs": [],
   "source": [
    "#Correlation Heatmap\n",
    "plt.figure(figsize=(10,6))\n",
    "sns.heatmap(df.corr(numeric_only=True), annot=True, cmap=\"coolwarm\", fmt=\".2f\")\n",
    "plt.title(\"Feature Correlations\")\n",
    "plt.show()\n"
   ]
  },
  {
   "cell_type": "code",
   "execution_count": null,
   "id": "e4357454",
   "metadata": {
    "vscode": {
     "languageId": "plaintext"
    }
   },
   "outputs": [],
   "source": [
    "#Gender and Country vs Revenue\n",
    "plt.figure(figsize=(12,5))\n",
    "sns.boxplot(x='Gender', y='Monetary', data=df)\n",
    "plt.title(\"Revenue by Gender\")\n",
    "\n",
    "plt.figure(figsize=(12,5))\n",
    "sns.boxplot(x='Country', y='Monetary', data=df)\n",
    "plt.title(\"Revenue by Country\")\n",
    "plt.show()\n"
   ]
  },
  {
   "cell_type": "code",
   "execution_count": null,
   "id": "f146f9a2",
   "metadata": {
    "vscode": {
     "languageId": "plaintext"
    }
   },
   "outputs": [],
   "source": [
    "#Retention Insights(Recency Buckets)\n",
    "df['RecencyBucket'] = pd.cut(df['Recency'], bins=[0,30,90,180,365,10000], \n",
    "                              labels=['<1M','1-3M','3-6M','6-12M','>1Y'])\n",
    "\n",
    "recency_stats = df.groupby('RecencyBucket')['Monetary'].mean().reset_index()\n",
    "sns.barplot(x='RecencyBucket', y='Monetary', data=recency_stats)\n",
    "plt.title(\"Avg Revenue by Recency Bucket\")\n",
    "plt.show()\n"
   ]
  }
 ],
 "metadata": {
  "language_info": {
   "name": "python"
  }
 },
 "nbformat": 4,
 "nbformat_minor": 5
}
